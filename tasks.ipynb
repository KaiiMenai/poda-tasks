{
 "cells": [
  {
   "cell_type": "markdown",
   "metadata": {},
   "source": [
    "# Principles of Data Analytics - Dataset Analysis"
   ]
  },
  {
   "cell_type": "markdown",
   "metadata": {},
   "source": [
    "## Task 1: Source the Data Set"
   ]
  },
  {
   "cell_type": "markdown",
   "metadata": {},
   "source": [
    "NOTE: Would it be better to include png/jpeg for each of the output plots to ensure clarity? I can make a note of this at the start for the user and then just state that all the python works (hopefully)!"
   ]
  },
  {
   "cell_type": "markdown",
   "metadata": {},
   "source": [
    "Sourcing the data for use during the module.\n",
    "\n",
    "The Iris dataset can be found here: https://gist.github.com/curran/a08a1080b88344b0c8a7\n",
    "\n",
    "A way to make it easier for the csv to be read easier is found here: https://pandas.pydata.org/docs/reference/api/pandas.read_csv.html"
   ]
  },
  {
   "cell_type": "code",
   "execution_count": 1,
   "metadata": {},
   "outputs": [],
   "source": [
    "# Import libraries that will help with visualising and analysing data. (Python. 2025. Built-in types. https://docs.python.org/3/library/stdtypes.html)\n",
    "import pandas as pd\n",
    "import numpy as np\n",
    "import scipy\n",
    "import matplotlib.pyplot as plt\n",
    "import seaborn as sns\n",
    "import sklearn as skl\n",
    "from scipy.stats import f_oneway\n",
    "from sklearn.decomposition import PCA\n",
    "from sklearn.model_selection import train_test_split\n",
    "from sklearn.preprocessing import StandardScaler\n",
    "from sklearn.neighbors import KNeighborsClassifier\n",
    "from sklearn.metrics import mean_squared_error, r2_score\n",
    "from sklearn.linear_model import LogisticRegression\n",
    "from sklearn.linear_model import LinearRegression\n",
    "from sklearn.preprocessing import LabelEncoder\n",
    "from sklearn.metrics import accuracy_score, classification_report, confusion_matrix"
   ]
  },
  {
   "cell_type": "markdown",
   "metadata": {},
   "source": [
    "Now that the data frames and machine learning libraries have been imported. It's now time to import the dataset using read.csv. "
   ]
  },
  {
   "cell_type": "code",
   "execution_count": 2,
   "metadata": {},
   "outputs": [],
   "source": [
    "# This will load in the iris dataset from the web link.\n",
    "\n",
    "df = pd.read_csv(\"https://gist.githubusercontent.com/curran/a08a1080b88344b0c8a7/raw/0e7a9b0a5d22642a06d3d5b9bcbad9890c8ee534/iris.csv\")"
   ]
  },
  {
   "cell_type": "markdown",
   "metadata": {},
   "source": [
    "## Task 2: Explore the Data Structure"
   ]
  },
  {
   "cell_type": "markdown",
   "metadata": {},
   "source": [
    "Need to check that the dataset is actually loaded in. (https://www.stat.berkeley.edu/~stark/SticiGui/Text/gloss.htm , https://rss.org.uk/resources/statistical-explainers/common-statistical-terms/ , https://medium.com/@nirajan.acharya777/exploratory-data-analysis-of-iris-dataset-9c0df76771df )"
   ]
  },
  {
   "cell_type": "code",
   "execution_count": 3,
   "metadata": {},
   "outputs": [
    {
     "data": {
      "application/vnd.microsoft.datawrangler.viewer.v0+json": {
       "columns": [
        {
         "name": "index",
         "rawType": "int64",
         "type": "integer"
        },
        {
         "name": "sepal_length",
         "rawType": "float64",
         "type": "float"
        },
        {
         "name": "sepal_width",
         "rawType": "float64",
         "type": "float"
        },
        {
         "name": "petal_length",
         "rawType": "float64",
         "type": "float"
        },
        {
         "name": "petal_width",
         "rawType": "float64",
         "type": "float"
        },
        {
         "name": "species",
         "rawType": "object",
         "type": "string"
        }
       ],
       "conversionMethod": "pd.DataFrame",
       "ref": "1e869b7d-aa1c-442d-8972-0f6b3587b511",
       "rows": [
        [
         "0",
         "5.1",
         "3.5",
         "1.4",
         "0.2",
         "setosa"
        ],
        [
         "1",
         "4.9",
         "3.0",
         "1.4",
         "0.2",
         "setosa"
        ],
        [
         "2",
         "4.7",
         "3.2",
         "1.3",
         "0.2",
         "setosa"
        ],
        [
         "3",
         "4.6",
         "3.1",
         "1.5",
         "0.2",
         "setosa"
        ],
        [
         "4",
         "5.0",
         "3.6",
         "1.4",
         "0.2",
         "setosa"
        ],
        [
         "5",
         "5.4",
         "3.9",
         "1.7",
         "0.4",
         "setosa"
        ],
        [
         "6",
         "4.6",
         "3.4",
         "1.4",
         "0.3",
         "setosa"
        ],
        [
         "7",
         "5.0",
         "3.4",
         "1.5",
         "0.2",
         "setosa"
        ],
        [
         "8",
         "4.4",
         "2.9",
         "1.4",
         "0.2",
         "setosa"
        ],
        [
         "9",
         "4.9",
         "3.1",
         "1.5",
         "0.1",
         "setosa"
        ],
        [
         "10",
         "5.4",
         "3.7",
         "1.5",
         "0.2",
         "setosa"
        ],
        [
         "11",
         "4.8",
         "3.4",
         "1.6",
         "0.2",
         "setosa"
        ],
        [
         "12",
         "4.8",
         "3.0",
         "1.4",
         "0.1",
         "setosa"
        ],
        [
         "13",
         "4.3",
         "3.0",
         "1.1",
         "0.1",
         "setosa"
        ],
        [
         "14",
         "5.8",
         "4.0",
         "1.2",
         "0.2",
         "setosa"
        ],
        [
         "15",
         "5.7",
         "4.4",
         "1.5",
         "0.4",
         "setosa"
        ],
        [
         "16",
         "5.4",
         "3.9",
         "1.3",
         "0.4",
         "setosa"
        ],
        [
         "17",
         "5.1",
         "3.5",
         "1.4",
         "0.3",
         "setosa"
        ],
        [
         "18",
         "5.7",
         "3.8",
         "1.7",
         "0.3",
         "setosa"
        ],
        [
         "19",
         "5.1",
         "3.8",
         "1.5",
         "0.3",
         "setosa"
        ],
        [
         "20",
         "5.4",
         "3.4",
         "1.7",
         "0.2",
         "setosa"
        ],
        [
         "21",
         "5.1",
         "3.7",
         "1.5",
         "0.4",
         "setosa"
        ],
        [
         "22",
         "4.6",
         "3.6",
         "1.0",
         "0.2",
         "setosa"
        ],
        [
         "23",
         "5.1",
         "3.3",
         "1.7",
         "0.5",
         "setosa"
        ],
        [
         "24",
         "4.8",
         "3.4",
         "1.9",
         "0.2",
         "setosa"
        ],
        [
         "25",
         "5.0",
         "3.0",
         "1.6",
         "0.2",
         "setosa"
        ],
        [
         "26",
         "5.0",
         "3.4",
         "1.6",
         "0.4",
         "setosa"
        ],
        [
         "27",
         "5.2",
         "3.5",
         "1.5",
         "0.2",
         "setosa"
        ],
        [
         "28",
         "5.2",
         "3.4",
         "1.4",
         "0.2",
         "setosa"
        ],
        [
         "29",
         "4.7",
         "3.2",
         "1.6",
         "0.2",
         "setosa"
        ],
        [
         "30",
         "4.8",
         "3.1",
         "1.6",
         "0.2",
         "setosa"
        ],
        [
         "31",
         "5.4",
         "3.4",
         "1.5",
         "0.4",
         "setosa"
        ],
        [
         "32",
         "5.2",
         "4.1",
         "1.5",
         "0.1",
         "setosa"
        ],
        [
         "33",
         "5.5",
         "4.2",
         "1.4",
         "0.2",
         "setosa"
        ],
        [
         "34",
         "4.9",
         "3.1",
         "1.5",
         "0.1",
         "setosa"
        ],
        [
         "35",
         "5.0",
         "3.2",
         "1.2",
         "0.2",
         "setosa"
        ],
        [
         "36",
         "5.5",
         "3.5",
         "1.3",
         "0.2",
         "setosa"
        ],
        [
         "37",
         "4.9",
         "3.1",
         "1.5",
         "0.1",
         "setosa"
        ],
        [
         "38",
         "4.4",
         "3.0",
         "1.3",
         "0.2",
         "setosa"
        ],
        [
         "39",
         "5.1",
         "3.4",
         "1.5",
         "0.2",
         "setosa"
        ],
        [
         "40",
         "5.0",
         "3.5",
         "1.3",
         "0.3",
         "setosa"
        ],
        [
         "41",
         "4.5",
         "2.3",
         "1.3",
         "0.3",
         "setosa"
        ],
        [
         "42",
         "4.4",
         "3.2",
         "1.3",
         "0.2",
         "setosa"
        ],
        [
         "43",
         "5.0",
         "3.5",
         "1.6",
         "0.6",
         "setosa"
        ],
        [
         "44",
         "5.1",
         "3.8",
         "1.9",
         "0.4",
         "setosa"
        ],
        [
         "45",
         "4.8",
         "3.0",
         "1.4",
         "0.3",
         "setosa"
        ],
        [
         "46",
         "5.1",
         "3.8",
         "1.6",
         "0.2",
         "setosa"
        ],
        [
         "47",
         "4.6",
         "3.2",
         "1.4",
         "0.2",
         "setosa"
        ],
        [
         "48",
         "5.3",
         "3.7",
         "1.5",
         "0.2",
         "setosa"
        ],
        [
         "49",
         "5.0",
         "3.3",
         "1.4",
         "0.2",
         "setosa"
        ]
       ],
       "shape": {
        "columns": 5,
        "rows": 150
       }
      },
      "text/html": [
       "<div>\n",
       "<style scoped>\n",
       "    .dataframe tbody tr th:only-of-type {\n",
       "        vertical-align: middle;\n",
       "    }\n",
       "\n",
       "    .dataframe tbody tr th {\n",
       "        vertical-align: top;\n",
       "    }\n",
       "\n",
       "    .dataframe thead th {\n",
       "        text-align: right;\n",
       "    }\n",
       "</style>\n",
       "<table border=\"1\" class=\"dataframe\">\n",
       "  <thead>\n",
       "    <tr style=\"text-align: right;\">\n",
       "      <th></th>\n",
       "      <th>sepal_length</th>\n",
       "      <th>sepal_width</th>\n",
       "      <th>petal_length</th>\n",
       "      <th>petal_width</th>\n",
       "      <th>species</th>\n",
       "    </tr>\n",
       "  </thead>\n",
       "  <tbody>\n",
       "    <tr>\n",
       "      <th>0</th>\n",
       "      <td>5.1</td>\n",
       "      <td>3.5</td>\n",
       "      <td>1.4</td>\n",
       "      <td>0.2</td>\n",
       "      <td>setosa</td>\n",
       "    </tr>\n",
       "    <tr>\n",
       "      <th>1</th>\n",
       "      <td>4.9</td>\n",
       "      <td>3.0</td>\n",
       "      <td>1.4</td>\n",
       "      <td>0.2</td>\n",
       "      <td>setosa</td>\n",
       "    </tr>\n",
       "    <tr>\n",
       "      <th>2</th>\n",
       "      <td>4.7</td>\n",
       "      <td>3.2</td>\n",
       "      <td>1.3</td>\n",
       "      <td>0.2</td>\n",
       "      <td>setosa</td>\n",
       "    </tr>\n",
       "    <tr>\n",
       "      <th>3</th>\n",
       "      <td>4.6</td>\n",
       "      <td>3.1</td>\n",
       "      <td>1.5</td>\n",
       "      <td>0.2</td>\n",
       "      <td>setosa</td>\n",
       "    </tr>\n",
       "    <tr>\n",
       "      <th>4</th>\n",
       "      <td>5.0</td>\n",
       "      <td>3.6</td>\n",
       "      <td>1.4</td>\n",
       "      <td>0.2</td>\n",
       "      <td>setosa</td>\n",
       "    </tr>\n",
       "    <tr>\n",
       "      <th>...</th>\n",
       "      <td>...</td>\n",
       "      <td>...</td>\n",
       "      <td>...</td>\n",
       "      <td>...</td>\n",
       "      <td>...</td>\n",
       "    </tr>\n",
       "    <tr>\n",
       "      <th>145</th>\n",
       "      <td>6.7</td>\n",
       "      <td>3.0</td>\n",
       "      <td>5.2</td>\n",
       "      <td>2.3</td>\n",
       "      <td>virginica</td>\n",
       "    </tr>\n",
       "    <tr>\n",
       "      <th>146</th>\n",
       "      <td>6.3</td>\n",
       "      <td>2.5</td>\n",
       "      <td>5.0</td>\n",
       "      <td>1.9</td>\n",
       "      <td>virginica</td>\n",
       "    </tr>\n",
       "    <tr>\n",
       "      <th>147</th>\n",
       "      <td>6.5</td>\n",
       "      <td>3.0</td>\n",
       "      <td>5.2</td>\n",
       "      <td>2.0</td>\n",
       "      <td>virginica</td>\n",
       "    </tr>\n",
       "    <tr>\n",
       "      <th>148</th>\n",
       "      <td>6.2</td>\n",
       "      <td>3.4</td>\n",
       "      <td>5.4</td>\n",
       "      <td>2.3</td>\n",
       "      <td>virginica</td>\n",
       "    </tr>\n",
       "    <tr>\n",
       "      <th>149</th>\n",
       "      <td>5.9</td>\n",
       "      <td>3.0</td>\n",
       "      <td>5.1</td>\n",
       "      <td>1.8</td>\n",
       "      <td>virginica</td>\n",
       "    </tr>\n",
       "  </tbody>\n",
       "</table>\n",
       "<p>150 rows × 5 columns</p>\n",
       "</div>"
      ],
      "text/plain": [
       "     sepal_length  sepal_width  petal_length  petal_width    species\n",
       "0             5.1          3.5           1.4          0.2     setosa\n",
       "1             4.9          3.0           1.4          0.2     setosa\n",
       "2             4.7          3.2           1.3          0.2     setosa\n",
       "3             4.6          3.1           1.5          0.2     setosa\n",
       "4             5.0          3.6           1.4          0.2     setosa\n",
       "..            ...          ...           ...          ...        ...\n",
       "145           6.7          3.0           5.2          2.3  virginica\n",
       "146           6.3          2.5           5.0          1.9  virginica\n",
       "147           6.5          3.0           5.2          2.0  virginica\n",
       "148           6.2          3.4           5.4          2.3  virginica\n",
       "149           5.9          3.0           5.1          1.8  virginica\n",
       "\n",
       "[150 rows x 5 columns]"
      ]
     },
     "execution_count": 3,
     "metadata": {},
     "output_type": "execute_result"
    }
   ],
   "source": [
    "# Looking at the dataset.\n",
    "\n",
    "df"
   ]
  },
  {
   "cell_type": "markdown",
   "metadata": {},
   "source": [
    "Next, need to check the shape of the data, this will help further along when deciding the types of exploratory statistical tests to conduct."
   ]
  },
  {
   "cell_type": "code",
   "execution_count": 4,
   "metadata": {},
   "outputs": [
    {
     "data": {
      "text/plain": [
       "(150, 5)"
      ]
     },
     "execution_count": 4,
     "metadata": {},
     "output_type": "execute_result"
    }
   ],
   "source": [
    "df.shape"
   ]
  },
  {
   "cell_type": "markdown",
   "metadata": {},
   "source": [
    "The dataset contains 150 samples, each of these samples has had a number of measurements taken (5 variables in all) - sepal width and length, petal width and length, and species of iris. Based on Stevens (1946) categarisation of data types, these are forms of ratio (length and width measurements), and nominal (species). "
   ]
  },
  {
   "cell_type": "code",
   "execution_count": 5,
   "metadata": {},
   "outputs": [
    {
     "name": "stdout",
     "output_type": "stream",
     "text": [
      "Index(['sepal_length', 'sepal_width', 'petal_length', 'petal_width',\n",
      "       'species'],\n",
      "      dtype='object')\n"
     ]
    }
   ],
   "source": [
    "list(df.columns)\n",
    "print(df.columns)"
   ]
  },
  {
   "cell_type": "markdown",
   "metadata": {},
   "source": [
    "The first and last 5 rows of the dataset are as follows. (Stackoverflow user \"Life is complex\". First and last n rows of a dataframe. https://stackoverflow.com/questions/58260771/how-to-show-firstlast-n-rows-of-a-dataframe )"
   ]
  },
  {
   "cell_type": "code",
   "execution_count": 6,
   "metadata": {},
   "outputs": [
    {
     "name": "stdout",
     "output_type": "stream",
     "text": [
      "     sepal_length  sepal_width  petal_length  petal_width    species\n",
      "0             5.1          3.5           1.4          0.2     setosa\n",
      "1             4.9          3.0           1.4          0.2     setosa\n",
      "2             4.7          3.2           1.3          0.2     setosa\n",
      "3             4.6          3.1           1.5          0.2     setosa\n",
      "4             5.0          3.6           1.4          0.2     setosa\n",
      "145           6.7          3.0           5.2          2.3  virginica\n",
      "146           6.3          2.5           5.0          1.9  virginica\n",
      "147           6.5          3.0           5.2          2.0  virginica\n",
      "148           6.2          3.4           5.4          2.3  virginica\n",
      "149           5.9          3.0           5.1          1.8  virginica\n"
     ]
    }
   ],
   "source": [
    "sliced_df = pd.concat([df.head(5), df.tail(5)])\n",
    "print(sliced_df)"
   ]
  },
  {
   "cell_type": "markdown",
   "metadata": {},
   "source": [
    "Getting some information on what is included in the dataset. This will clarify the data types."
   ]
  },
  {
   "cell_type": "code",
   "execution_count": 7,
   "metadata": {},
   "outputs": [
    {
     "name": "stdout",
     "output_type": "stream",
     "text": [
      "<class 'pandas.core.frame.DataFrame'>\n",
      "RangeIndex: 150 entries, 0 to 149\n",
      "Data columns (total 5 columns):\n",
      " #   Column        Non-Null Count  Dtype  \n",
      "---  ------        --------------  -----  \n",
      " 0   sepal_length  150 non-null    float64\n",
      " 1   sepal_width   150 non-null    float64\n",
      " 2   petal_length  150 non-null    float64\n",
      " 3   petal_width   150 non-null    float64\n",
      " 4   species       150 non-null    object \n",
      "dtypes: float64(4), object(1)\n",
      "memory usage: 6.0+ KB\n"
     ]
    }
   ],
   "source": [
    "df.info()"
   ]
  },
  {
   "cell_type": "markdown",
   "metadata": {},
   "source": [
    "From the information table, it can be seen that there are 150 entries over 5 columns. Where one column has categorical (object) data (species column) and the four other columns (sepal length, sepal width, petal length, and petal width) are of the float type (float64) with non-Null entries that is, there are no 0 / null~ entries in the dataset."
   ]
  },
  {
   "cell_type": "markdown",
   "metadata": {},
   "source": [
    "After checking for null values and the different data types, now checking for missing values is important. If there were missing values, the dataset would need to be cleaned and sorted."
   ]
  },
  {
   "cell_type": "code",
   "execution_count": 8,
   "metadata": {},
   "outputs": [
    {
     "data": {
      "text/plain": [
       "sepal_length    0\n",
       "sepal_width     0\n",
       "petal_length    0\n",
       "petal_width     0\n",
       "species         0\n",
       "dtype: int64"
      ]
     },
     "execution_count": 8,
     "metadata": {},
     "output_type": "execute_result"
    }
   ],
   "source": [
    "df.isnull().sum()"
   ]
  },
  {
   "cell_type": "markdown",
   "metadata": {},
   "source": [
    "Following a checking of the dataset, it was found that there were no missing values in any of the columns."
   ]
  },
  {
   "cell_type": "markdown",
   "metadata": {},
   "source": [
    "To ensure that the data is correct and contains no repitition of recorded values it was important to check for duplicates."
   ]
  },
  {
   "cell_type": "code",
   "execution_count": 9,
   "metadata": {},
   "outputs": [
    {
     "name": "stdout",
     "output_type": "stream",
     "text": [
      "0          setosa\n",
      "50     versicolor\n",
      "100     virginica\n",
      "Name: species, dtype: object\n"
     ]
    }
   ],
   "source": [
    "data = df.drop_duplicates(subset =\"species\",)\n",
    "\n",
    "print(data.species)"
   ]
  },
  {
   "cell_type": "markdown",
   "metadata": {},
   "source": [
    "No duplicates were found in the dataset."
   ]
  },
  {
   "cell_type": "markdown",
   "metadata": {},
   "source": [
    "Next, it was important to check if the dataset was balanced to ensure that the analysis isn't skewed by the data distribution."
   ]
  },
  {
   "cell_type": "code",
   "execution_count": 10,
   "metadata": {},
   "outputs": [
    {
     "data": {
      "text/plain": [
       "species\n",
       "setosa        50\n",
       "versicolor    50\n",
       "virginica     50\n",
       "Name: count, dtype: int64"
      ]
     },
     "execution_count": 10,
     "metadata": {},
     "output_type": "execute_result"
    }
   ],
   "source": [
    "df.value_counts(\"species\")"
   ]
  },
  {
   "cell_type": "markdown",
   "metadata": {},
   "source": [
    "It can be seen that all the species contain equal amounts of rows, thus the dataset is balanced."
   ]
  },
  {
   "cell_type": "markdown",
   "metadata": {},
   "source": [
    "## Task 3: Summarize the Data"
   ]
  },
  {
   "cell_type": "markdown",
   "metadata": {},
   "source": [
    "A quick statistical summary of the data was important. This would give the count, mean, standard deviation, the quartiles of the data, and is a good way to understand the data and range of the features within the dataset."
   ]
  },
  {
   "cell_type": "markdown",
   "metadata": {},
   "source": [
    "### Summary Statistics for the Dataset"
   ]
  },
  {
   "cell_type": "code",
   "execution_count": 11,
   "metadata": {},
   "outputs": [
    {
     "name": "stdout",
     "output_type": "stream",
     "text": [
      "\n",
      "Summary statistics:\n",
      "       sepal_length  sepal_width  petal_length  petal_width\n",
      "count    150.000000   150.000000    150.000000   150.000000\n",
      "mean       5.843333     3.054000      3.758667     1.198667\n",
      "std        0.828066     0.433594      1.764420     0.763161\n",
      "min        4.300000     2.000000      1.000000     0.100000\n",
      "25%        5.100000     2.800000      1.600000     0.300000\n",
      "50%        5.800000     3.000000      4.350000     1.300000\n",
      "75%        6.400000     3.300000      5.100000     1.800000\n",
      "max        7.900000     4.400000      6.900000     2.500000\n"
     ]
    }
   ],
   "source": [
    "print(\"\\nSummary statistics:\")\n",
    "print(df.describe())\n"
   ]
  },
  {
   "cell_type": "markdown",
   "metadata": {},
   "source": [
    "The count shows that there are 150 samples in the dataset for each of the variables, the value displayed is the non-missing values, and thus it can be verified that the dataset does not have any missing values. The mean for sepal length was 5.84, sepal width was 3.05, petal length was 3.76, and for petal width was 1.20. The mean is calculated from dividing the sum of all the values by the number of values (150 in this case). The standard deviation (std) is a measure of the spread of the data, that is, how much the values deviate from the mean value on average. \n",
    "\n",
    "For sepal length, the mean is 5.84 cm and the std is 0.83, therefore most values deviate by 0.83 cm (+/-) from the mean. Sepal width mean is 3.05, with a std of 0.43 cm, the width of sepals deviate by +/- 0.43 cm from the mean. For petal length, the mean is 3.76 cm and the std is 1.76 cm, thus most values for petal length deviate by 1.76 cm (+/-). Sepal width has less variability (std = 0.43) compared to sepal length (std = 0.83). Petal width has a mean of 1.20 cm with a std of 0.76 cm, the width of petals deviate by +/- 0.76 cm. The measurement with the largest deviation from the mean is the petal length (std = 1.76), this suggests that petal lengths vary more widely across samples compared to the other features.\n",
    "\n",
    "The median values for each of the features is 5.80 cm, 3.00 cm, 4.35 cm, and 1.30 cm, for sepal length, sepal width, petal length, and petal width, respectively.\n",
    "\n",
    "The minimum and maximum values for each of the features demonstrates the range. The minimum and maximum values for each of the features is as follows: sepal length 4.3 cm (min) and 7.9 cm (max), sepal width 2.0 cm (min) and 4.4 cm (max), petal length 1.0 cm (min) and 6.9 cm (max), and for petal width 0.1 cm (min) and 2.5 cm (max).\n",
    "\n",
    "For sepal length, sepal width, petal length, and petal width, 25 % of the data falls below the values 5.1 cm, 2.8 cm, 1.6 cm, and 0.3 cm, respectively. For each of the features, 50 % of the data falls below the values of 5.8 cm, 3.0 cm, 4.35 cm, and 1.3 cm, for sepal length, sepal width, petal length, and petal width, respectively. Following data exploration is can be seen that 75 % of the data for sepal length falls below 6.4 cm, for sepal width below 3.3 cm, petal length below 5.1 cm, and for petal width it is below 1.8 cm.\n",
    "\n",
    "It is clear from the summary statistics table that for petal measurements the range and variability is greater than for sepal measurements, suggesting that petal features may provide more definitive distinguishing information for iris classification. From the table it can also be discerned that the median of the values (50 %) are near the mean for most of the features, suggesting that the data is relatively symmetrical without any extreme skewedness in the values."
   ]
  },
  {
   "cell_type": "markdown",
   "metadata": {},
   "source": [
    "### Summary Statistics by Species"
   ]
  },
  {
   "cell_type": "code",
   "execution_count": 12,
   "metadata": {},
   "outputs": [
    {
     "ename": "",
     "evalue": "",
     "output_type": "error",
     "traceback": [
      "\u001b[1;31mFailed to connect to the remote Jupyter Server 'https://potential-space-chainsaw-6qv7xggrvv4h5pxr-8888.app.github.dev/'. Verify the server is running and reachable. (Failed to connect to the remote Jupyter Server 'https://potential-space-chainsaw-6qv7xggrvv4h5pxr-8888.app.github.dev/'. Verify the server is running and reachable. (Invalid response: 404 Not Found).)."
     ]
    }
   ],
   "source": [
    "print(\"\\nSummary statistics for each species:\")\n",
    "\n",
    "# Separate the dataset by species\n",
    "setosa_stats = df[df['species'] == 'setosa'].describe()\n",
    "versicolor_stats = df[df['species'] == 'versicolor'].describe()\n",
    "virginica_stats = df[df['species'] == 'virginica'].describe()\n",
    "\n",
    "# Display the statistics for each species\n",
    "print(\"Setosa Statistics:\")\n",
    "print(setosa_stats)\n",
    "\n",
    "print(\"\\nVersicolor Statistics:\")\n",
    "print(versicolor_stats)\n",
    "\n",
    "print(\"\\nVirginica Statistics:\")\n",
    "print(virginica_stats)"
   ]
  },
  {
   "cell_type": "markdown",
   "metadata": {},
   "source": [
    "To further investigate the  basic statistics on a species specific level, the data was split and grouped by species. This further illustrates that the measurements of the petal features have the greatest variability in values. Setosa had a mean petal length of 1.46 cm with std of 0.17, and an average petal width of 0.24 cm with a std of 0.11. Versicolor had a mean petal length of 4.26 cm with std of 0.47, and an average petal width of 1.33 cm with a std of 0.2. Virginica had a mean petal length of 5.55 cm with std of 0.55, and an average petal width of 2.03 cm with a std of 0.27. "
   ]
  },
  {
   "cell_type": "code",
   "execution_count": null,
   "metadata": {},
   "outputs": [],
   "source": [
    "# Group data by species\n",
    "setosa = df[df['species'] == 'setosa']['sepal_length']\n",
    "versicolor = df[df['species'] == 'versicolor']['sepal_length']\n",
    "virginica = df[df['species'] == 'virginica']['sepal_length']\n",
    "\n",
    "# Perform one-way ANOVA\n",
    "anova_results = f_oneway(setosa, versicolor, virginica)\n",
    "\n",
    "# Display results\n",
    "print(\"One-Way ANOVA Results:\")\n",
    "print(f\"F-statistic: {anova_results.statistic:.4f}\")\n",
    "print(f\"P-value: {anova_results.pvalue:.4f}\")"
   ]
  },
  {
   "cell_type": "markdown",
   "metadata": {},
   "source": [
    "Also need to check the class distribution to make sure that nothing will be skewed during the analysis."
   ]
  },
  {
   "cell_type": "code",
   "execution_count": null,
   "metadata": {},
   "outputs": [],
   "source": [
    "print(\"\\nClass distribution:\")\n",
    "print(df['species'].value_counts())"
   ]
  },
  {
   "cell_type": "markdown",
   "metadata": {},
   "source": [
    "Looking at the species and the number of samples recorded for each. It can be seen that there were 50 samples recorded for each of the three species; setosa, versicolor, and virginica. The dataset is balanced without skwewdness between the species."
   ]
  },
  {
   "cell_type": "markdown",
   "metadata": {},
   "source": [
    "## Task 4: Visualize Features"
   ]
  },
  {
   "cell_type": "markdown",
   "metadata": {},
   "source": [
    "To get an idea of how the data for each species looked depending on the measurement variables (petal length, petal width, sepal length, sepal width) a histogram was made for each of these measured categories."
   ]
  },
  {
   "cell_type": "markdown",
   "metadata": {},
   "source": [
    "### Histogram"
   ]
  },
  {
   "cell_type": "code",
   "execution_count": null,
   "metadata": {},
   "outputs": [],
   "source": [
    "# Set up the figure\n",
    "fig, axes = plt.subplots(2, 2, figsize=(12, 10))\n",
    "\n",
    "# Plot histogram for Sepal Length\n",
    "sns.histplot(data=df, x=\"sepal_length\", hue=\"species\", kde=False, ax=axes[0, 0], bins=15)\n",
    "axes[0, 0].set_title(\"Sepal Length Distribution by Species\")\n",
    "axes[0, 0].set_xlabel(\"Sepal Length (cm)\")\n",
    "axes[0, 0].set_ylabel(\"Frequency\")\n",
    "axes[0, 0].legend(title=\"Species\", labels=df['species'].unique(), loc='upper right')\n",
    "\n",
    "# Plot histogram for Sepal Width\n",
    "sns.histplot(data=df, x=\"sepal_width\", hue=\"species\", kde=False, ax=axes[0, 1], bins=15)\n",
    "axes[0, 1].set_title(\"Sepal Width Distribution by Species\")\n",
    "axes[0, 1].set_xlabel(\"Sepal Width (cm)\")\n",
    "axes[0, 1].set_ylabel(\"Frequency\")\n",
    "axes[0, 1].legend(title=\"Species\", labels=df['species'].unique(), loc='upper right')\n",
    "\n",
    "# Plot histogram for Petal Length\n",
    "sns.histplot(data=df, x=\"petal_length\", hue=\"species\", kde=False, ax=axes[1, 0], bins=15)\n",
    "axes[1, 0].set_title(\"Petal Length Distribution by Species\")\n",
    "axes[1, 0].set_xlabel(\"Petal Length (cm)\")\n",
    "axes[1, 0].set_ylabel(\"Frequency\")\n",
    "axes[1, 0].legend(title=\"Species\", labels=df['species'].unique(), loc='upper right')\n",
    "\n",
    "# Plot histogram for Petal Width\n",
    "sns.histplot(data=df, x=\"petal_width\", hue=\"species\", kde=False, ax=axes[1, 1], bins=15)\n",
    "axes[1, 1].set_title(\"Petal Width Distribution by Species\")\n",
    "axes[1, 1].set_xlabel(\"Petal Width (cm)\")\n",
    "axes[1, 1].set_ylabel(\"Frequency\") \n",
    "axes[1, 1].legend(title=\"Species\", labels=df['species'].unique(), loc='upper right')\n",
    "\n",
    "\n",
    "# Adjust layout for better spacing\n",
    "plt.tight_layout()\n",
    "plt.show()"
   ]
  },
  {
   "cell_type": "markdown",
   "metadata": {},
   "source": [
    "Observations on histagram plots\n",
    "\n",
    "The plots are all colour coded by species; blue for setosa, orange for versicolor, and green for virginica. \n",
    "From the plots it can be seen that for sepal length by species, the setosa species showed a normal distribution with the majority of sepals being around 5.0 cm in length. The versicolor species has a broader range of sepal lengths, with the majority of sepals being approximately 5.5 cm in length. The species with the largest range in length of sepals is the virginica species, and of all the species it is the species with the longest average sepal length.\n",
    "The plot for sepal width demonstrates that the overall data for all the samples has a normal distribution. \n",
    "Contrary to the sepal length data, the smallest sepal width is the cersicolor species, with the virginica species being in the middle of the range, and the setosa species having the largest width. The setosa species also has the broadest range in values of width. \n",
    "Similarly to the sepal length, for petal length setosa was the species with the shortest average length and the smallest range. The versicolor species is the species that has an average petal length of around 4.5 cm and demonstrated a normal distribution of values. The virginica species was the species with the longest petal lengths on average, similarly to the sepal lengths. Petal width for the setosa species was the shortest on average. The versicolor species, was the mid-width species, with values between 1.0 cm and 2.0 cm. The petal width for the virginica species was the widest.\n",
    "The sepal width and petal width for the setosa species are contrary to one another. For the petal measurements of length and width, the setosa species is the shortest and narrowest and the values for this species also separated away from the other two species."
   ]
  },
  {
   "cell_type": "markdown",
   "metadata": {},
   "source": [
    "## Task 5: Investigate Relationships"
   ]
  },
  {
   "cell_type": "markdown",
   "metadata": {},
   "source": [
    "### Scatter Plot for pairs of features"
   ]
  },
  {
   "cell_type": "markdown",
   "metadata": {},
   "source": [
    "To further explore the similarities and differences within the dataset, a scatter-plot was formed for each pair of features, sepal length and width, and petal length and width. This would help to illustrate any similarities/differences within the pairs of measured features."
   ]
  },
  {
   "cell_type": "code",
   "execution_count": null,
   "metadata": {},
   "outputs": [],
   "source": [
    "# Create a figure with two subplots\n",
    "fig, axes = plt.subplots(1, 2, figsize=(20, 8))\n",
    "\n",
    "# Scatter plot for sepal length vs width\n",
    "sns.scatterplot(ax=axes[0], data=df, x='sepal_length', y='sepal_width', hue='species', s=100)\n",
    "axes[0].set_title('Sepal Length vs Sepal Width by Species')\n",
    "axes[0].set_xlabel('Sepal Length (cm)')\n",
    "axes[0].set_ylabel('Sepal Width (cm)')\n",
    "axes[0].legend(title='Species')\n",
    "axes[0].grid(True)\n",
    "\n",
    "# Scatter plot for petal length vs width\n",
    "sns.scatterplot(ax=axes[1], data=df, x='petal_length', y='petal_width', hue='species', s=100)\n",
    "axes[1].set_title('Petal Length vs Petal Width by Species')\n",
    "axes[1].set_xlabel('Petal Length (cm)')\n",
    "axes[1].set_ylabel('Petal Width (cm)')\n",
    "axes[1].legend(title='Species')\n",
    "axes[1].grid(True)\n",
    "\n",
    "plt.tight_layout()\n",
    "plt.show()"
   ]
  },
  {
   "cell_type": "markdown",
   "metadata": {},
   "source": [
    "The scatter plots display setosa in blue, versicolor in orange, and virginica in green. Setosa shows a clearly separate grouping for sepal features, whereas versicolor and virginica show a high level of overlap in their plotted values. There is however, more clear separation between versicolor and virginica for the petal features, setosa once again, clearly separates into a group from the other two species.\n",
    "\n",
    "From the scatter plots, it suggests that it may be easier to discern if measurements are for setosa, as it separates out more than the other 2 species, versicolor and virginica. It may be more difficult to differentiate between virginica and versicolor as many of the values look to be of similar value ranges and overlap for sepal length vs. sepal width. This suggests that the features most useful in determining/predicting/differentiating between species are the petal length and width."
   ]
  },
  {
   "cell_type": "markdown",
   "metadata": {},
   "source": [
    "## Task 6: Analyze Relationship"
   ]
  },
  {
   "cell_type": "markdown",
   "metadata": {},
   "source": [
    "To further explore what the data is saying, add regression lines to the scatter plots from task 5."
   ]
  },
  {
   "cell_type": "markdown",
   "metadata": {},
   "source": [
    "Plotting the regression line as per the task instructions"
   ]
  },
  {
   "cell_type": "code",
   "execution_count": null,
   "metadata": {},
   "outputs": [],
   "source": [
    "import numpy as np\n",
    "\n",
    "# Create a figure with two subplots\n",
    "fig, axes = plt.subplots(1, 2, figsize=(20, 8))\n",
    "\n",
    "# Scatter plot with regression line for sepal length vs width\n",
    "sns.scatterplot(ax=axes[0], data=df, x='sepal_length', y='sepal_width', hue='species', s=100)\n",
    "for species in df['species'].unique():\n",
    "    subset = df[df['species'] == species]\n",
    "    # Fit a linear regression line using numpy.polyfit\n",
    "    slope, intercept = np.polyfit(subset['sepal_length'], subset['sepal_width'], 1)\n",
    "    # Generate regression line points\n",
    "    x_vals = np.linspace(subset['sepal_length'].min(), subset['sepal_length'].max(), 100)\n",
    "    y_vals = slope * x_vals + intercept\n",
    "    # Plot the regression line\n",
    "    axes[0].plot(x_vals, y_vals, label=f'{species} Regression')\n",
    "axes[0].set_title('Sepal Length vs Sepal Width by Species')\n",
    "axes[0].set_xlabel('Sepal Length (cm)')\n",
    "axes[0].set_ylabel('Sepal Width (cm)')\n",
    "axes[0].legend(title='Species and Regression')\n",
    "axes[0].grid(True)\n",
    "\n",
    "# Scatter plot with regression line for petal length vs width\n",
    "sns.scatterplot(ax=axes[1], data=df, x='petal_length', y='petal_width', hue='species', s=100)\n",
    "for species in df['species'].unique():\n",
    "    subset = df[df['species'] == species]\n",
    "    # Fit a linear regression line using numpy.polyfit\n",
    "    slope, intercept = np.polyfit(subset['petal_length'], subset['petal_width'], 1)\n",
    "    # Generate regression line points\n",
    "    x_vals = np.linspace(subset['petal_length'].min(), subset['petal_length'].max(), 100)\n",
    "    y_vals = slope * x_vals + intercept\n",
    "    # Plot the regression line\n",
    "    axes[1].plot(x_vals, y_vals, label=f'{species} Regression')\n",
    "axes[1].set_title('Petal Length vs Petal Width by Species')\n",
    "axes[1].set_xlabel('Petal Length (cm)')\n",
    "axes[1].set_ylabel('Petal Width (cm)')\n",
    "axes[1].legend(title='Species and Regression')\n",
    "axes[1].grid(True)\n",
    "\n",
    "plt.tight_layout()\n",
    "plt.show()"
   ]
  },
  {
   "cell_type": "markdown",
   "metadata": {},
   "source": [
    "Key Differences between using nupy and using sns:\n",
    "numpy.polyfit:\n",
    "    Manually calculates the slope and intercept of the regression line for each species.\n",
    "    Gives you more control over the regression process.\n",
    "\n",
    "sns.regplot:\n",
    "    Automatically fits and plots the regression line.\n",
    "    Easier to use but less customizable compared to numpy.polyfit.\n",
    "\n",
    "What Output do each give and the key difference between them:\n",
    "Both approaches will produce scatter plots with regression lines, but using numpy.polyfit allows you to explicitly control the regression calculation and customize the line plotting."
   ]
  },
  {
   "cell_type": "markdown",
   "metadata": {},
   "source": [
    "### Scatter Plots with Regression Lines by Species"
   ]
  },
  {
   "cell_type": "code",
   "execution_count": null,
   "metadata": {},
   "outputs": [],
   "source": [
    "# Create a figure with two subplots - just like before\n",
    "fig, axes = plt.subplots(1, 2, figsize=(20, 8))\n",
    "\n",
    "# The difference this time is creating a regression line for each species, this makes it easier to observe any patterns or relationships in the data.\n",
    "# Scatter plot with regression line for sepal length vs width \n",
    "sns.scatterplot(ax=axes[0], data=df, x='sepal_length', y='sepal_width', hue='species', s=100)\n",
    "for species in df['species'].unique():\n",
    "    subset = df[df['species'] == species]\n",
    "    sns.regplot(ax=axes[0], data=subset, x='sepal_length', y='sepal_width', scatter=False, label=f'{species} Regression')\n",
    "axes[0].set_title('Sepal Length vs Sepal Width by Species')\n",
    "axes[0].set_xlabel('Sepal Length (cm)')\n",
    "axes[0].set_ylabel('Sepal Width (cm)')\n",
    "axes[0].legend(title='Species and Regression')\n",
    "axes[0].grid(True)\n",
    "\n",
    "# Scatter plot with regression line for petal length vs width\n",
    "sns.scatterplot(ax=axes[1], data=df, x='petal_length', y='petal_width', hue='species', s=100)\n",
    "for species in df['species'].unique():\n",
    "    subset = df[df['species'] == species]\n",
    "    sns.regplot(ax=axes[1], data=subset, x='petal_length', y='petal_width', scatter=False, label=f'{species} Regression')\n",
    "axes[1].set_title('Petal Length vs Petal Width by Species')\n",
    "axes[1].set_xlabel('Petal Length (cm)')\n",
    "axes[1].set_ylabel('Petal Width (cm)')\n",
    "axes[1].legend(title='Species and Regression')\n",
    "axes[1].grid(True)\n",
    "\n",
    "plt.tight_layout()\n",
    "plt.show()"
   ]
  },
  {
   "cell_type": "markdown",
   "metadata": {},
   "source": [
    "what do the plots wwith regression lines show for each species for each pair? - DELETE LATER"
   ]
  },
  {
   "cell_type": "markdown",
   "metadata": {},
   "source": [
    "### Principal Component Analysis (PCA)"
   ]
  },
  {
   "cell_type": "markdown",
   "metadata": {},
   "source": [
    "A way to conduct relationship investigations is through Principal Component Analysis (PCA) - I did this for my PhD research and found it was a great way to clearly look at multiple data aspects at once. (https://scikit-learn.org/stable/auto_examples/decomposition/plot_pca_iris.html )\n"
   ]
  },
  {
   "cell_type": "code",
   "execution_count": null,
   "metadata": {},
   "outputs": [],
   "source": [
    "## Principal Component Analysis\n",
    "X = df.iloc[:, :4] # The first four columns are the features (sepal length, sepal width, petal length, petal width)\n",
    "# The last column is the target variable (species).\n",
    "y = df['species']\n",
    "# However, we need to standardise the data before performing PCA.\n"
   ]
  },
  {
   "cell_type": "markdown",
   "metadata": {},
   "source": [
    "An important note of PCA is that the data needs to be standardised for it. \n",
    "When standardising data, it's important that it is scaled correctly, otherwise the results will appear skewed and purely incorrect."
   ]
  },
  {
   "cell_type": "code",
   "execution_count": null,
   "metadata": {},
   "outputs": [],
   "source": [
    "# Standardize data\n",
    "scaler = StandardScaler()\n",
    "X_scaled = scaler.fit_transform(X)\n",
    "print(X_scaled[:5])  # Print first 5 rows of scaled data"
   ]
  },
  {
   "cell_type": "markdown",
   "metadata": {},
   "source": [
    "The analysis can then be run again."
   ]
  },
  {
   "cell_type": "code",
   "execution_count": null,
   "metadata": {},
   "outputs": [],
   "source": [
    "# Perform PCA\n",
    "pca = PCA(n_components=2)\n",
    "principal_components = pca.fit_transform(X_scaled)"
   ]
  },
  {
   "cell_type": "markdown",
   "metadata": {},
   "source": [
    "We can then view the standardised PCA analysis."
   ]
  },
  {
   "cell_type": "code",
   "execution_count": null,
   "metadata": {},
   "outputs": [],
   "source": [
    "# Visualize PCA results\n",
    "plt.figure(figsize=(8, 6))\n",
    "sns.scatterplot(x=principal_components[:, 0], y=principal_components[:, 1], \n",
    "                hue=df['species'], s=100) # Scatter plot of the first two principal components\n",
    "plt.xlabel(f'PC1 ({pca.explained_variance_ratio_[0]:.1%})') # PC1 is the first principal component, which is the petal length and width\n",
    "plt.ylabel(f'PC2 ({pca.explained_variance_ratio_[1]:.1%})') # PC2 is the second principal component, which is the sepal length and width\n",
    "plt.title(\"PCA of Iris Dataset\")\n",
    "plt.legend(title='Species')\n",
    "plt.show()"
   ]
  },
  {
   "cell_type": "markdown",
   "metadata": {},
   "source": [
    "#### PCA Insights:\n",
    "\n",
    "First 2 components explain 95.8% of variance\n",
    "\n",
    "PC1 (73% variance) strongly correlates with petal measurements Suggesting that petal length and width are responsible for the majority of the variance within the data.\n",
    "\n",
    "PC2 (22.8% variance) relates to sepal width and length \n",
    "\n"
   ]
  },
  {
   "cell_type": "markdown",
   "metadata": {},
   "source": [
    "## Task 7: Analyze Class Distributions"
   ]
  },
  {
   "cell_type": "markdown",
   "metadata": {},
   "source": [
    "To specifically analyse the data seen within each species, the data needs to be seperated out into the 3 respective species.\n",
    "\n",
    "We already know that the iris dataset is balanced with 50 samples measured for each of the three species."
   ]
  },
  {
   "cell_type": "markdown",
   "metadata": {},
   "source": [
    "### Boxplot"
   ]
  },
  {
   "cell_type": "code",
   "execution_count": null,
   "metadata": {},
   "outputs": [],
   "source": [
    "# Boxplots by species\n",
    "\n",
    "# Define feature names and their corresponding titles\n",
    "features = ['sepal_length', 'sepal_width', 'petal_length', 'petal_width']\n",
    "titles = ['Sepal Length by Species', 'Sepal Width by Species', \n",
    "          'Petal Length by Species', 'Petal Width by Species']\n",
    "\n",
    "plt.figure(figsize=(12, 8))\n",
    "for i, feature in enumerate(['sepal_length', 'sepal_width', 'petal_length', 'petal_width']):\n",
    "    ax = plt.subplot(2, 2, i+1)\n",
    "    sns.boxplot(x='species', y=feature, hue='species', data=df, ax=ax)\n",
    "    ax.set_title(titles[i])\n",
    "    ax.set_xlabel('Species'.title())  # Capitalize the first letter of each word\n",
    "    ax.set_ylabel(feature.replace('_', ' ').title())  # Capitalize the first letter of each word\n",
    "plt.tight_layout()\n",
    "plt.show()"
   ]
  },
  {
   "cell_type": "markdown",
   "metadata": {},
   "source": [
    "Boxplots are a great way to visualise the data range, potential outliers, the inter-quartile range, and the median. Setosa had 3 outliers in the data for petal length, and 2 outliers in the data for petal width, virginica had 1 outlier for sepal length, and 2 outliers fort sepal width, whereas versicolor had one outlier for petal length only. Setosa had the shortest sepal length on average, but had the widest sepal width. Setosa also had the shortest and narrowest petal length and width, respectively. Although the measurements for the 4 features for versicolor and virginica did differ somewhat, there were instances where their measurements overlapped/were similar, for example, sepal width and sepal length. From the plots it can be further seen that some features may be significantly different in their distributions between species, petal length and petal width, and this may make these features valuable for classification. (https://www.nickmccullum.com/python-visualization/boxplot/ , https://www.ncl.ac.uk/webtemplate/ask-assets/external/maths-resources/statistics/data-presentation/box-and-whisker-plots.html )"
   ]
  },
  {
   "cell_type": "markdown",
   "metadata": {},
   "source": [
    "## Task 8: Compute Correlations"
   ]
  },
  {
   "cell_type": "markdown",
   "metadata": {},
   "source": [
    "In order to assess whether there are similarities or differences between the iris  features, the length/width of the sepals and petals. It is important to conduct analysis into the relationship between sepal length and width, and petal length and with against the particular species. This will also help further down the line when designing a method to predict the species of an iris flower from measurements alone."
   ]
  },
  {
   "cell_type": "markdown",
   "metadata": {},
   "source": [
    "### Feature Corelation Matrix"
   ]
  },
  {
   "cell_type": "code",
   "execution_count": null,
   "metadata": {},
   "outputs": [],
   "source": [
    "## Correlation Analysis\n",
    "corr_matrix = df.iloc[:, :4].corr()\n",
    "sns.heatmap(corr_matrix, annot=True, cmap='coolwarm')\n",
    "plt.title(\"Feature Correlation Matrix\")\n",
    "plt.show()"
   ]
  },
  {
   "cell_type": "markdown",
   "metadata": {},
   "source": [
    "From the plot, it can be seen that the warmer the colour/higher the number, closer to 1 in the range (-0.4 - 1), the greater the correlation with the other feature analysed. It can be seen that the petal measurements (length and/or width) show a strong positive correlation (r = 0.96). This indicates that petal length and petal width vary together, due to them often showing a positive correlation within the dataset. The positive correlation between the petal measurements also bolsters the suggestion that petal length and width may be a useful determining factor when it comes to classification.\n",
    "\n",
    "The value for sepal width is often below 0 (-0.11, -0.42, -0.36), indicating that it has the lowest correlation with other features."
   ]
  },
  {
   "cell_type": "markdown",
   "metadata": {},
   "source": [
    "## Task 9: Fit a Simple Linear Regression"
   ]
  },
  {
   "cell_type": "markdown",
   "metadata": {},
   "source": [
    "### Linear Regression - Overall Regression Line and R<sup>2</sup>"
   ]
  },
  {
   "cell_type": "markdown",
   "metadata": {},
   "source": [
    "Basic linear regression was conducted on the dataset. First the dataset was split into sepal length and width data, as well as petal length and width data. For making models and predicting for multiple features, this will be done after using a logistic regression model."
   ]
  },
  {
   "cell_type": "code",
   "execution_count": null,
   "metadata": {},
   "outputs": [],
   "source": [
    "# Create a figure with two subplots\n",
    "fig, axes = plt.subplots(1, 2, figsize=(20, 8))\n",
    "\n",
    "# Sepal Length vs Sepal Width\n",
    "X_sepal = df[['sepal_length']]\n",
    "y_sepal = df['sepal_width']\n",
    "model_sepal = LinearRegression()\n",
    "model_sepal.fit(X_sepal, y_sepal)\n",
    "y_sepal_pred = model_sepal.predict(X_sepal)\n",
    "r2_sepal = r2_score(y_sepal, y_sepal_pred)\n",
    "\n",
    "sns.scatterplot(ax=axes[0], data=df, x='sepal_length', y='sepal_width', hue='species', s=100)\n",
    "sns.regplot(ax=axes[0], data=df, x='sepal_length', y='sepal_width', scatter=False, color='red')\n",
    "axes[0].set_title('Sepal Length vs Sepal Width by Species')\n",
    "axes[0].set_xlabel('Sepal Length (cm)')\n",
    "axes[0].set_ylabel('Sepal Width (cm)')\n",
    "axes[0].legend(title='Species')\n",
    "axes[0].grid(True)\n",
    "axes[0].text(0.05, 0.95, f'R² = {r2_sepal:.2f}', transform=axes[0].transAxes, fontsize=12, verticalalignment='top', bbox=dict(boxstyle=\"round\", facecolor=\"white\", alpha=0.5))\n",
    "\n",
    "# Petal Length vs Petal Width\n",
    "X_petal = df[['petal_length']]\n",
    "y_petal = df['petal_width']\n",
    "model_petal = LinearRegression()\n",
    "model_petal.fit(X_petal, y_petal)\n",
    "y_petal_pred = model_petal.predict(X_petal)\n",
    "r2_petal = r2_score(y_petal, y_petal_pred)\n",
    "\n",
    "sns.scatterplot(ax=axes[1], data=df, x='petal_length', y='petal_width', hue='species', s=100)\n",
    "sns.regplot(ax=axes[1], data=df, x='petal_length', y='petal_width', scatter=False, color='red')\n",
    "axes[1].set_title('Petal Length vs Petal Width by Species')\n",
    "axes[1].set_xlabel('Petal Length (cm)')\n",
    "axes[1].set_ylabel('Petal Width (cm)')\n",
    "axes[1].legend(title='Species')\n",
    "axes[1].grid(True)\n",
    "axes[1].text(0.05, 0.95, f'R² = {r2_petal:.2f}', transform=axes[1].transAxes, fontsize=12, verticalalignment='top', bbox=dict(boxstyle=\"round\", facecolor=\"white\", alpha=0.5))\n",
    "\n",
    "plt.tight_layout()\n",
    "plt.show()"
   ]
  },
  {
   "cell_type": "markdown",
   "metadata": {},
   "source": [
    "The left scatter plot displays a single regression line fitted across all data points for the relationship between sepal length and sepal width for the three iris species, setosa, versicolor, and virginica, are colour coded, the line shows the linear relationship between the length and width of the sepals. Due to the near \"flat\" nature of the regression line, a weak relationship between the features is observed. In the top left of the plot the R<sup>2</sup> value is displayed, this value explains the variance in sepal width based on sepal length. The R<sup>2</sup> value is 0.01, this denotes a low value, as such it indicates that sepal length is not a strong predictor for sepal width, thus other factors may influence the relationship between these features. Similarly to observations from the boxplots and histograms,the setosa species appears to cluster together in a distinctly separate group to teh versicolor and virginica. The latter two species of versicolor and virginica overlap significantly in sepal measurements, this would make it harder to distinguish between these species based solely on sepal measurements.\n",
    "\n",
    "The right scatter plot displays the plot for the relationships between petal length and petal width for the three iris species, the colours for the species are the same as in the left plot. Blue for setosa, orange for versicolor, and green for virginica. Compared to the sepal plot, the petal measurements plot shows distinct clustering for each individual species. The regression line is fitted across all data points, again representing the overall linear relationship between petal length and width. This line has a sharp angle with the data points clustered close to the line. The R<sup>2</sup> value is 0.93, indicating that most of the variance is petal width can be explained by petal length. This suggests that petal length is a strong predictor of petal width. Again, the setosa species clearly separates from versicolor and virginica, the setosa species had smaller petal widths and lengths. Compared to what was observed for sepal feature relationships, for petal features, versicolor and virginica are more distinctly clustered, with some minimal overlap.\n",
    "\n",
    "Setosa clearly separates from the other two species in both plots, this makes it easier to classify.\n",
    "\n",
    "(R^2 understanding https://www.investopedia.com/terms/r/r-squared.asp , Linear RM datacamp https://www.datacamp.com/tutorial/simple-linear-regression , linear regression https://www.ibm.com/think/topics/linear-regression , understanding linear regression https://datatab.net/tutorial/linear-regression ) (To sub/sup -erscript = <sup></sup> sub/sup-erscript text <sub></sub> <- click on cell to find notation)"
   ]
  },
  {
   "cell_type": "markdown",
   "metadata": {},
   "source": [
    "### Linear Regression - Regression lines and R<sup>2</sup> by Species"
   ]
  },
  {
   "cell_type": "code",
   "execution_count": null,
   "metadata": {},
   "outputs": [],
   "source": [
    "# Create a figure with two subplots\n",
    "fig, axes = plt.subplots(1, 2, figsize=(20, 8))\n",
    "\n",
    "# Sepal Length vs Sepal Width\n",
    "sns.scatterplot(ax=axes[0], data=df, x='sepal_length', y='sepal_width', hue='species', s=100)\n",
    "axes[0].set_title('Sepal Length vs Sepal Width by Species')\n",
    "axes[0].set_xlabel('Sepal Length (cm)')\n",
    "axes[0].set_ylabel('Sepal Width (cm)')\n",
    "axes[0].grid(True)\n",
    "\n",
    "# Fit and plot regression lines for each species\n",
    "for species in df['species'].unique():\n",
    "    subset = df[df['species'] == species]\n",
    "    X = subset[['sepal_length']]\n",
    "    y = subset['sepal_width']\n",
    "    model = LinearRegression()\n",
    "    model.fit(X, y)\n",
    "    y_pred = model.predict(X)\n",
    "    r2 = r2_score(y, y_pred)\n",
    "    sns.lineplot(ax=axes[0], x=subset['sepal_length'], y=y_pred, label=f'{species} (R²={r2:.2f})')\n",
    "    \n",
    "# Add legend title for the first subplot\n",
    "axes[0].legend(title='Species and Regression')\n",
    "\n",
    "# Petal Length vs Petal Width\n",
    "sns.scatterplot(ax=axes[1], data=df, x='petal_length', y='petal_width', hue='species', s=100)\n",
    "axes[1].set_title('Petal Length vs Petal Width by Species')\n",
    "axes[1].set_xlabel('Petal Length (cm)')\n",
    "axes[1].set_ylabel('Petal Width (cm)')\n",
    "axes[1].grid(True)\n",
    "\n",
    "# Fit and plot regression lines for each species\n",
    "for species in df['species'].unique():\n",
    "    subset = df[df['species'] == species]\n",
    "    X = subset[['petal_length']]\n",
    "    y = subset['petal_width']\n",
    "    model = LinearRegression()\n",
    "    model.fit(X, y)\n",
    "    y_pred = model.predict(X)\n",
    "    r2 = r2_score(y, y_pred)\n",
    "    sns.lineplot(ax=axes[1], x=subset['petal_length'], y=y_pred, label=f'{species} (R²={r2:.2f})')\n",
    "\n",
    "# Add legend title for the second subplot\n",
    "axes[1].legend(title='Species and Regression')\n",
    "\n",
    "plt.tight_layout()\n",
    ",/supplt.show()"
   ]
  },
  {
   "cell_type": "markdown",
   "metadata": {},
   "source": [
    "The left plot displays the Linear Regression for the Sepal features. Setosa, shown in blue, had an R<sup>2</sup> value of 0.56. Versicolor (orange), showed an R<sup>2</sup> value of 0.28. Virginica, in green, had an R<sup>2</sup> value of 0.21. Of the three species, Setosa is the species where sepal features, length and width, may influence the variance in one another. However, due to the overlap between Versicolor (R<sup>2</sup> = 0.28) and Virginica (R<sup>2</sup> = 0.21), other factors may be responsible for the variance observed between the Sepal features.\n",
    "\n",
    "In the right plot, the three species Setosa (blue), Versicolor (orange), and Virginica (green) Linear Regression for the Petal Features is plotted. The three species have clearly separated from one another. However, although on a dataset wide basis Petal Features have influence over one another (R<sup>2</sup> = 0.93), at species level, the results are quite different. Out of the three species, the only one to display influence on variance for petal features over one another was the Virginica species (R<sup>2</sup> = 0.62), with the Setosa and Virginica species showing that other factors may be responsible for the variance between these features, with R<sup>2</sup> values of 0.09 and 0.10, respectively."
   ]
  },
  {
   "cell_type": "markdown",
   "metadata": {},
   "source": [
    "### Sepal Features - Predictions using Linear Regression"
   ]
  },
  {
   "cell_type": "markdown",
   "metadata": {},
   "source": [
    "To further explore the dataset and to illustrate how the sepal measurements and petal measurements differ in their potential use in predicting classifications.\n",
    "The dataset for the linear regression models for the sepal data and petal data was split into train and test data (80 % for training 20 % for testing). This was done for the length and width data values."
   ]
  },
  {
   "cell_type": "code",
   "execution_count": null,
   "metadata": {},
   "outputs": [],
   "source": [
    "# Prepare data for sepal linear regression\n",
    "X_sepal = df[['sepal_length']]\n",
    "y_sepal = df['sepal_width']\n",
    "\n",
    "# Split the dataset\n",
    "X_sepal_train, X_sepal_test, y_sepal_train, y_sepal_test = train_test_split(X_sepal, y_sepal, test_size=0.2, random_state=42)\n",
    "\n",
    "# Create and fit the model\n",
    "model_sepal = LinearRegression()\n",
    "model_sepal.fit(X_sepal_train, y_sepal_train)\n",
    "\n",
    "# Make predictions\n",
    "y_sepal_pred = model_sepal.predict(X_sepal_test)\n",
    "\n",
    "# Calculate metrics\n",
    "mse_sepal = mean_squared_error(y_sepal_test, y_sepal_pred)\n",
    "r2_sepal = r2_score(y_sepal_test, y_sepal_pred)\n",
    "\n",
    "print(\"Sepal Linear Regression Results:\")\n",
    "print(f\"Coefficient: {model_sepal.coef_[0]:.4f}\")\n",
    "print(f\"Intercept: {model_sepal.intercept_:.4f}\")\n",
    "print(f\"Mean squared error: {mse_sepal:.4f}\")\n",
    "print(f\"R-squared score: {r2_sepal:.4f}\")\n",
    "\n",
    "# Visualize results\n",
    "plt.figure(figsize=(10, 6))\n",
    "plt.scatter(X_sepal_test, y_sepal_test, color='blue', alpha=0.5, label='Actual data')\n",
    "plt.plot(X_sepal_test, y_sepal_pred, color='red', label='Regression line')\n",
    "# adding a title and labels\n",
    "plt.xlabel('Sepal Length (cm)')\n",
    "plt.ylabel('Sepal Width (cm)')\n",
    "plt.title('Linear Regression: Sepal Length vs Sepal Width')\n",
    "plt.legend(title='Data and Regression Line')\n",
    "plt.show()"
   ]
  },
  {
   "cell_type": "markdown",
   "metadata": {},
   "source": [
    "This was then used to predict sepal width depending on the sepal length."
   ]
  },
  {
   "cell_type": "code",
   "execution_count": null,
   "metadata": {},
   "outputs": [],
   "source": [
    "# Example prediction for sepal model\n",
    "new_sepal_length = pd.DataFrame([[5.7]], columns=['sepal_length'])  # Match the feature name used during training - np array is still there just within the dataframe now\n",
    "predicted_sepal_width = model_sepal.predict(new_sepal_length)\n",
    "\n",
    "print(\"\\nSepal Width Prediction:\")\n",
    "print(f\"For a sepal length of 5.7 cm, the predicted sepal width is: {predicted_sepal_width[0]:.2f} cm\")"
   ]
  },
  {
   "cell_type": "markdown",
   "metadata": {},
   "source": [
    "### Petal Features - Predictions using Linear Regression"
   ]
  },
  {
   "cell_type": "markdown",
   "metadata": {},
   "source": [
    "It should be noted, that the spread of the actual data in relation to the regression line for the sepal length and width shows a low linear relationship between the length and width of the sepal. That is, although there was some relationship between the length and width of the sepal, due to the low linear relationship, the accuracy of the prediction of one value (i.e. sepal width) based on another value (i.e. sepal length) would not be very/entirely accurate."
   ]
  },
  {
   "cell_type": "markdown",
   "metadata": {},
   "source": [
    "Next the same was done with the petal length and width."
   ]
  },
  {
   "cell_type": "code",
   "execution_count": null,
   "metadata": {},
   "outputs": [],
   "source": [
    "# Prepare data for petal linear regression\n",
    "X_petal = df[['petal_length']]\n",
    "y_petal = df['petal_width']\n",
    "\n",
    "# Split the dataset\n",
    "X_petal_train, X_petal_test, y_petal_train, y_petal_test = train_test_split(X_petal, y_petal, test_size=0.2, random_state=42)\n",
    "\n",
    "# Create and fit the model\n",
    "model_petal = LinearRegression()\n",
    "model_petal.fit(X_petal_train, y_petal_train)\n",
    "\n",
    "# Make predictions\n",
    "y_petal_pred = model_petal.predict(X_petal_test)\n",
    "\n",
    "# Calculate metrics\n",
    "mse_petal = mean_squared_error(y_petal_test, y_petal_pred)\n",
    "r2_petal = r2_score(y_petal_test, y_petal_pred)\n",
    "\n",
    "print(\"\\nPetal Linear Regression Results:\")\n",
    "print(f\"Coefficient: {model_petal.coef_[0]:.4f}\")\n",
    "print(f\"Intercept: {model_petal.intercept_:.4f}\")\n",
    "print(f\"Mean squared error: {mse_petal:.4f}\")\n",
    "print(f\"R-squared score: {r2_petal:.4f}\")\n",
    "\n",
    "# Visualize results\n",
    "plt.figure(figsize=(10, 6))\n",
    "plt.scatter(X_petal_test, y_petal_test, color='green', alpha=0.5, label='Actual data')\n",
    "plt.plot(X_petal_test, y_petal_pred, color='red', label='Regression line')\n",
    "plt.xlabel('Petal Length (cm)')\n",
    "plt.ylabel('Petal Width (cm)')\n",
    "plt.title('Linear Regression: Petal Length vs Petal Width')\n",
    "plt.legend(title='Data and Regression Line')\n",
    "plt.show()"
   ]
  },
  {
   "cell_type": "markdown",
   "metadata": {},
   "source": [
    "The spread of the data around the regression line shows a moderate to high linear relationship between petal length and width values.\n",
    "\n",
    "The clustering of the datapoints around the regression line display that predicting of petal features would be more useful in comparison to the sepal measurements, as the sepal features have a greater spread and distribution from the regression line."
   ]
  },
  {
   "cell_type": "markdown",
   "metadata": {},
   "source": [
    "A prediction was also made:"
   ]
  },
  {
   "cell_type": "code",
   "execution_count": null,
   "metadata": {},
   "outputs": [],
   "source": [
    "# Example prediction for petal model\n",
    "new_petal_length = pd.DataFrame([[4.5]], columns=['petal_length'])  # Match the feature name used during training - np array is again wrapped in the dataframe \n",
    "predicted_petal_width = model_petal.predict(new_petal_length)\n",
    "\n",
    "print(\"\\nPetal Width Prediction:\")\n",
    "print(f\"For a petal length of 4.5 cm, the predicted petal width is: {predicted_petal_width[0]:.2f} cm\")"
   ]
  },
  {
   "cell_type": "markdown",
   "metadata": {},
   "source": [
    "Due to the nature of the relationship between the petal length and petal width, the prediction made here will be more accurate than that seen for the sepal feature."
   ]
  },
  {
   "cell_type": "markdown",
   "metadata": {},
   "source": [
    "## Task 10: Too Many Features"
   ]
  },
  {
   "cell_type": "markdown",
   "metadata": {},
   "source": [
    "### Pairplot"
   ]
  },
  {
   "cell_type": "markdown",
   "metadata": {},
   "source": [
    "A pairplot is a great way to see the comparison between pairs of features, sepal length vs, sepal width, sepal length vs petal length, sepal length vs petal width, etc. for the different species, depicted by the different colours (Setosa is blue, Versicolor is orange, Verginica is green).  Pairplot analysis outputs multiple subplots that are plotted in a matrix format; row name gives the x axis, column name gives the y axis, and univariate distributions (histogram) are plotted on the diagonal from top left to bottom right for each attribute. (Pairplot visualisation: https://medium.com/analytics-vidhya/pairplot-visualization-16325cd725e6 , https://www.analyticsvidhya.com/blog/2024/02/pair-plots-in-machine-learning/ , https://seaborn.pydata.org/generated/seaborn.pairplot.html , https://builtin.com/articles/seaborn-pairplot )"
   ]
  },
  {
   "cell_type": "code",
   "execution_count": null,
   "metadata": {},
   "outputs": [],
   "source": [
    "## Visualization\n",
    "# Pairplot colored by species\n",
    "pairplot = sns.pairplot(df, hue='species', height=2.5)\n",
    "plt.suptitle(\"Pairwise Feature Relationships\", y=1.02)\n",
    "pairplot._legend.set_title('Species')\n",
    "plt.show()"
   ]
  },
  {
   "cell_type": "markdown",
   "metadata": {},
   "source": [
    "The pairplot gives a good overall view of "
   ]
  },
  {
   "cell_type": "markdown",
   "metadata": {},
   "source": [
    "### Logistic Regression"
   ]
  },
  {
   "cell_type": "markdown",
   "metadata": {},
   "source": [
    "There are a number of features for analysis within this data. To make predictions with multiple features more accurately a Logistic Regression model can be made. Although a linear regression model has previously been added to the data, it is possible to predict a species based on the measurements taken through using a logistic regression model."
   ]
  },
  {
   "cell_type": "markdown",
   "metadata": {},
   "source": [
    "Using a Logistic Regression Model on the iris dataset is appropriate due to the relatively small size of the dataset (Log Regression Models work well with small, linearly separable datasets). The model is good for multi-class classification, as seen in the dataset with the \"species\" classifications.\n",
    "\n",
    "To break-down the work\n",
    "\n",
    "When looking at the results of the logistic regression model, there are some things that should be taken into consideration. The iris dataset is relatively small, and when it is split on a species level, it has even fewer values. Although Logistic Regression Models work well on small datasets, splitting the dataset into multiple species creates a condensed dataset and may, not be representitive of the wider population. (Logistic model for species classification - https://scikit-learn.org/stable/modules/generated/sklearn.linear_model.LogisticRegression.html , https://www.ibm.com/think/topics/logistic-regression)"
   ]
  },
  {
   "cell_type": "code",
   "execution_count": null,
   "metadata": {},
   "outputs": [],
   "source": [
    "# Prepare data for species classification\n",
    "X_species = df[['sepal_length', 'sepal_width', 'petal_length', 'petal_width']] # These are the features that will be used during the classification.\n",
    "y_species = df['species'] # This is the target variable that is aimed to be predicted.\n",
    "\n",
    "# Encode species names to numerical values - Encoding species as numerical values (https://scikit-learn.org/stable/modules/generated/sklearn.preprocessing.LabelEncoder.html )\n",
    "le = LabelEncoder()\n",
    "y_species = le.fit_transform(y_species) # setosa = 0, versicolor = 1, virginica = 2\n",
    "\n",
    "# Split the dataset into an 80 % (training) and 20 % (testing) split.\n",
    "X_species_train, X_species_test, y_species_train, y_species_test = train_test_split(X_species, y_species, test_size=0.2, random_state=42)\n",
    "\n",
    "# Create and fit the model\n",
    "model_species = LogisticRegression(max_iter=200)\n",
    "model_species.fit(X_species_train, y_species_train)\n",
    "\n",
    "# Make predictions on the x_species_test set.\n",
    "y_species_pred = model_species.predict(X_species_test)\n",
    "\n",
    "# Calculate accuracy - here the predicted species (y_species_pred) with the actual species (y_species_test) are compared, to see how many were predicted correctly.\n",
    "accuracy = accuracy_score(y_species_test, y_species_pred)\n",
    "\n",
    "print(\"\\nLogistic Regression for Species Classification Results:\") # How to do it - https://scikit-learn.org/stable/modules/generated/sklearn.metrics.classification_report.html\n",
    "print(f\"Accuracy: {accuracy:.4f}\")\n",
    "print(\"\\nClassification Report:\")\n",
    "print(classification_report(y_species_test, y_species_pred, target_names=le.classes_))\n",
    "\n",
    "# Example prediction - predict species based on sepal and petal measurements.\n",
    "print(\"\\nExample Prediction (measurements in cm):\")\n",
    "example_data = pd.DataFrame([[5.1, 3.5, 1.4, 0.2]], \n",
    "                            columns=['sepal_length', 'sepal_width', 'petal_length', 'petal_width'])  # Match feature names to those in the training set\n",
    "predicted_species = model_species.predict(example_data)\n",
    "\n",
    "print(f\"\\nPredicted species for {example_data.iloc[0].tolist()}: {le.inverse_transform(predicted_species)[0]}\")"
   ]
  },
  {
   "cell_type": "markdown",
   "metadata": {},
   "source": [
    "For the iris dataset, the Logistic Regression Model achieves high accuracy (~97%), this is due to the simplicity and linear separability of the iris dataset. Accuracy for the Logistic Regression Model is calculated as the ratio of correct predictions to total predictions. The columns for precision and recall measure class specific performance in the model, and the f1-score column gives a balances metric for imbalanced classes (not a problem here as the iris dataset is balanced). In the support column, it can be seen that the Verginica species has a value of 9, demonstrating a slightly lower recall, this is likely due to the overlap with Versicolor. As seen throughout previous testing on the dataset, the majority of the confusion in the dataset occurs between the Bersicolor and Virginica species. \n",
    "\n",
    "Initially upon looking at the Classification Report, it could be assumed that the results do not highlight anything. This report provides detailed insights into the performance of the model for each species, showing areas where the model performs well or struggles. However, due to the size of the dataset (150 samples), and then the test set being even smaller (30 samples), it makes it easier for the model to achieve perfect accuracy, this model produced an accuracy of 1.0 (perfect accuracy). A linearly separable dataset is one that shows clear distinctions between classes, for the iris dataset that class difference is seen most clearly in the petal length/width. As the iris dataset is balanced, with an equal number of samples for each class (50), the risk of bias in the model is reduced. In order to improve accuracy and reliability, the model should be rerun a number of times using different splits of the data, this is called cross-validation."
   ]
  },
  {
   "cell_type": "markdown",
   "metadata": {},
   "source": [
    "A confusion matrix was plotted to visualise the results. The confusion matrix is a performance evaluation tool for classification models. It provides a summary of the prediction results by comparing the actual values (rows) against the predicted values (columns). \n",
    "\n",
    "Here's what it shows and why it's useful:"
   ]
  },
  {
   "cell_type": "code",
   "execution_count": null,
   "metadata": {},
   "outputs": [],
   "source": [
    "# Confusion matrix\n",
    "# Generate the confusion matrix\n",
    "cm = confusion_matrix(y_species_test, y_species_pred)\n",
    "\n",
    "# Plot the confusion matrix\n",
    "plt.figure(figsize=(6, 4))\n",
    "sns.heatmap(cm, annot=True, cmap='Blues', fmt='d', \n",
    "            xticklabels=le.classes_, yticklabels=le.classes_)\n",
    "plt.title(\"Confusion Matrix for Species Classification\")\n",
    "plt.xlabel('Predicted Species')\n",
    "plt.ylabel('Actual Species')\n",
    "plt.show()"
   ]
  },
  {
   "cell_type": "markdown",
   "metadata": {},
   "source": [
    "The confusion matrix helps with understanding how well the logistic regression model classifies the different species of iris and whether there are any species that are more prone to misclassification. (https://www.analyticsvidhya.com/blog/2020/04/confusion-matrix-machine-learning/)\n",
    "\n",
    "To interpret the matrix, the structure and values within the matrix are important to understand what it shows. The rows within the matrix represent the Actual Classes (actual species of iris), whilst the columns represent the Predicted Classes (predicted species from the model output). The matrix contains a number of values, on the diagonal line (from top left to bottom right) the values denote the Correct Predictions, where the actual and predicted classes (species) match. All other values from the diagonal are those denoting Misclassifications, where the actual and predicted classes (species) differ.\n",
    "\n",
    "Although the Logistic Regression Model gives a value for Accuracy (1.000) for Species Classification, the Classification Report and Confusion Matrix aid in giving a clearer picture of the data and the accuracy of predictions made with the model."
   ]
  },
  {
   "cell_type": "markdown",
   "metadata": {},
   "source": [
    "## References"
   ]
  },
  {
   "cell_type": "markdown",
   "metadata": {},
   "source": [
    "Thesis"
   ]
  },
  {
   "cell_type": "markdown",
   "metadata": {},
   "source": [
    "# HELP DOCS"
   ]
  },
  {
   "cell_type": "markdown",
   "metadata": {},
   "source": [
    "https://www.geeksforgeeks.org/iris-dataset/\n",
    "\n",
    "https://www.geeksforgeeks.org/exploratory-data-analysis-on-iris-dataset/\n",
    "\n",
    "https://stackoverflow.com/questions/58260771/how-to-show-firstlast-n-rows-of-a-dataframe\n",
    "\n",
    "https://bytemedirk.medium.com/mastering-iris-dataset-analysis-with-python-9e040a088ef4\n",
    "\n",
    "\n",
    "https://medium.com/@kachiann/a-beginners-guide-to-machine-learning-with-python-iris-flower-prediction-61814e095268\n",
    "\n",
    "https://www.geeksforgeeks.org/python-basics-of-pandas-using-iris-dataset/"
   ]
  }
 ],
 "metadata": {
  "kernelspec": {
   "display_name": "Python 3 (ipykernel)",
   "language": "python",
   "name": "python3"
  }
 },
 "nbformat": 4,
 "nbformat_minor": 2
}
