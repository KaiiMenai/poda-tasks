{
 "cells": [
  {
   "cell_type": "markdown",
   "metadata": {},
   "source": [
    "# Principles of Data Analytics - Dataset Analysis"
   ]
  },
  {
   "cell_type": "markdown",
   "metadata": {},
   "source": [
    "## Task 1"
   ]
  },
  {
   "cell_type": "markdown",
   "metadata": {},
   "source": [
    "Sourcing the data for use during the module.\n",
    "\n",
    "The Iris dataset can be found here: https://gist.github.com/curran/a08a1080b88344b0c8a7\n",
    "\n",
    "A way to make it easier for the csv to be read easier is found here: https://pandas.pydata.org/docs/reference/api/pandas.read_csv.html"
   ]
  },
  {
   "cell_type": "code",
   "execution_count": 1,
   "metadata": {},
   "outputs": [],
   "source": [
    "# Data frames.\n",
    "import pandas as pd\n",
    "\n",
    "# Machine Learning Library that contains example datasets.\n",
    "import sklearn as skl"
   ]
  },
  {
   "cell_type": "markdown",
   "metadata": {},
   "source": [
    "Now that the data frames and machine learning libraries have been imported. It's now time to import the dataset using read.csv. This will be task 2."
   ]
  },
  {
   "cell_type": "code",
   "execution_count": 2,
   "metadata": {},
   "outputs": [],
   "source": [
    "# This will load in the iris dataset from the web link.\n",
    "\n",
    "df = pd.read_csv(\"https://gist.githubusercontent.com/curran/a08a1080b88344b0c8a7/raw/0e7a9b0a5d22642a06d3d5b9bcbad9890c8ee534/iris.csv\")"
   ]
  },
  {
   "cell_type": "markdown",
   "metadata": {},
   "source": [
    "Need toi check that the dataset is actually loaded in."
   ]
  },
  {
   "cell_type": "code",
   "execution_count": 3,
   "metadata": {},
   "outputs": [
    {
     "data": {
      "application/vnd.microsoft.datawrangler.viewer.v0+json": {
       "columns": [
        {
         "name": "index",
         "rawType": "int64",
         "type": "integer"
        },
        {
         "name": "sepal_length",
         "rawType": "float64",
         "type": "float"
        },
        {
         "name": "sepal_width",
         "rawType": "float64",
         "type": "float"
        },
        {
         "name": "petal_length",
         "rawType": "float64",
         "type": "float"
        },
        {
         "name": "petal_width",
         "rawType": "float64",
         "type": "float"
        },
        {
         "name": "species",
         "rawType": "object",
         "type": "string"
        }
       ],
       "conversionMethod": "pd.DataFrame",
       "ref": "154edbd2-0f39-428d-9324-13ac929fa9c8",
       "rows": [
        [
         "0",
         "5.1",
         "3.5",
         "1.4",
         "0.2",
         "setosa"
        ],
        [
         "1",
         "4.9",
         "3.0",
         "1.4",
         "0.2",
         "setosa"
        ],
        [
         "2",
         "4.7",
         "3.2",
         "1.3",
         "0.2",
         "setosa"
        ],
        [
         "3",
         "4.6",
         "3.1",
         "1.5",
         "0.2",
         "setosa"
        ],
        [
         "4",
         "5.0",
         "3.6",
         "1.4",
         "0.2",
         "setosa"
        ],
        [
         "5",
         "5.4",
         "3.9",
         "1.7",
         "0.4",
         "setosa"
        ],
        [
         "6",
         "4.6",
         "3.4",
         "1.4",
         "0.3",
         "setosa"
        ],
        [
         "7",
         "5.0",
         "3.4",
         "1.5",
         "0.2",
         "setosa"
        ],
        [
         "8",
         "4.4",
         "2.9",
         "1.4",
         "0.2",
         "setosa"
        ],
        [
         "9",
         "4.9",
         "3.1",
         "1.5",
         "0.1",
         "setosa"
        ],
        [
         "10",
         "5.4",
         "3.7",
         "1.5",
         "0.2",
         "setosa"
        ],
        [
         "11",
         "4.8",
         "3.4",
         "1.6",
         "0.2",
         "setosa"
        ],
        [
         "12",
         "4.8",
         "3.0",
         "1.4",
         "0.1",
         "setosa"
        ],
        [
         "13",
         "4.3",
         "3.0",
         "1.1",
         "0.1",
         "setosa"
        ],
        [
         "14",
         "5.8",
         "4.0",
         "1.2",
         "0.2",
         "setosa"
        ],
        [
         "15",
         "5.7",
         "4.4",
         "1.5",
         "0.4",
         "setosa"
        ],
        [
         "16",
         "5.4",
         "3.9",
         "1.3",
         "0.4",
         "setosa"
        ],
        [
         "17",
         "5.1",
         "3.5",
         "1.4",
         "0.3",
         "setosa"
        ],
        [
         "18",
         "5.7",
         "3.8",
         "1.7",
         "0.3",
         "setosa"
        ],
        [
         "19",
         "5.1",
         "3.8",
         "1.5",
         "0.3",
         "setosa"
        ],
        [
         "20",
         "5.4",
         "3.4",
         "1.7",
         "0.2",
         "setosa"
        ],
        [
         "21",
         "5.1",
         "3.7",
         "1.5",
         "0.4",
         "setosa"
        ],
        [
         "22",
         "4.6",
         "3.6",
         "1.0",
         "0.2",
         "setosa"
        ],
        [
         "23",
         "5.1",
         "3.3",
         "1.7",
         "0.5",
         "setosa"
        ],
        [
         "24",
         "4.8",
         "3.4",
         "1.9",
         "0.2",
         "setosa"
        ],
        [
         "25",
         "5.0",
         "3.0",
         "1.6",
         "0.2",
         "setosa"
        ],
        [
         "26",
         "5.0",
         "3.4",
         "1.6",
         "0.4",
         "setosa"
        ],
        [
         "27",
         "5.2",
         "3.5",
         "1.5",
         "0.2",
         "setosa"
        ],
        [
         "28",
         "5.2",
         "3.4",
         "1.4",
         "0.2",
         "setosa"
        ],
        [
         "29",
         "4.7",
         "3.2",
         "1.6",
         "0.2",
         "setosa"
        ],
        [
         "30",
         "4.8",
         "3.1",
         "1.6",
         "0.2",
         "setosa"
        ],
        [
         "31",
         "5.4",
         "3.4",
         "1.5",
         "0.4",
         "setosa"
        ],
        [
         "32",
         "5.2",
         "4.1",
         "1.5",
         "0.1",
         "setosa"
        ],
        [
         "33",
         "5.5",
         "4.2",
         "1.4",
         "0.2",
         "setosa"
        ],
        [
         "34",
         "4.9",
         "3.1",
         "1.5",
         "0.1",
         "setosa"
        ],
        [
         "35",
         "5.0",
         "3.2",
         "1.2",
         "0.2",
         "setosa"
        ],
        [
         "36",
         "5.5",
         "3.5",
         "1.3",
         "0.2",
         "setosa"
        ],
        [
         "37",
         "4.9",
         "3.1",
         "1.5",
         "0.1",
         "setosa"
        ],
        [
         "38",
         "4.4",
         "3.0",
         "1.3",
         "0.2",
         "setosa"
        ],
        [
         "39",
         "5.1",
         "3.4",
         "1.5",
         "0.2",
         "setosa"
        ],
        [
         "40",
         "5.0",
         "3.5",
         "1.3",
         "0.3",
         "setosa"
        ],
        [
         "41",
         "4.5",
         "2.3",
         "1.3",
         "0.3",
         "setosa"
        ],
        [
         "42",
         "4.4",
         "3.2",
         "1.3",
         "0.2",
         "setosa"
        ],
        [
         "43",
         "5.0",
         "3.5",
         "1.6",
         "0.6",
         "setosa"
        ],
        [
         "44",
         "5.1",
         "3.8",
         "1.9",
         "0.4",
         "setosa"
        ],
        [
         "45",
         "4.8",
         "3.0",
         "1.4",
         "0.3",
         "setosa"
        ],
        [
         "46",
         "5.1",
         "3.8",
         "1.6",
         "0.2",
         "setosa"
        ],
        [
         "47",
         "4.6",
         "3.2",
         "1.4",
         "0.2",
         "setosa"
        ],
        [
         "48",
         "5.3",
         "3.7",
         "1.5",
         "0.2",
         "setosa"
        ],
        [
         "49",
         "5.0",
         "3.3",
         "1.4",
         "0.2",
         "setosa"
        ]
       ],
       "shape": {
        "columns": 5,
        "rows": 150
       }
      },
      "text/html": [
       "<div>\n",
       "<style scoped>\n",
       "    .dataframe tbody tr th:only-of-type {\n",
       "        vertical-align: middle;\n",
       "    }\n",
       "\n",
       "    .dataframe tbody tr th {\n",
       "        vertical-align: top;\n",
       "    }\n",
       "\n",
       "    .dataframe thead th {\n",
       "        text-align: right;\n",
       "    }\n",
       "</style>\n",
       "<table border=\"1\" class=\"dataframe\">\n",
       "  <thead>\n",
       "    <tr style=\"text-align: right;\">\n",
       "      <th></th>\n",
       "      <th>sepal_length</th>\n",
       "      <th>sepal_width</th>\n",
       "      <th>petal_length</th>\n",
       "      <th>petal_width</th>\n",
       "      <th>species</th>\n",
       "    </tr>\n",
       "  </thead>\n",
       "  <tbody>\n",
       "    <tr>\n",
       "      <th>0</th>\n",
       "      <td>5.1</td>\n",
       "      <td>3.5</td>\n",
       "      <td>1.4</td>\n",
       "      <td>0.2</td>\n",
       "      <td>setosa</td>\n",
       "    </tr>\n",
       "    <tr>\n",
       "      <th>1</th>\n",
       "      <td>4.9</td>\n",
       "      <td>3.0</td>\n",
       "      <td>1.4</td>\n",
       "      <td>0.2</td>\n",
       "      <td>setosa</td>\n",
       "    </tr>\n",
       "    <tr>\n",
       "      <th>2</th>\n",
       "      <td>4.7</td>\n",
       "      <td>3.2</td>\n",
       "      <td>1.3</td>\n",
       "      <td>0.2</td>\n",
       "      <td>setosa</td>\n",
       "    </tr>\n",
       "    <tr>\n",
       "      <th>3</th>\n",
       "      <td>4.6</td>\n",
       "      <td>3.1</td>\n",
       "      <td>1.5</td>\n",
       "      <td>0.2</td>\n",
       "      <td>setosa</td>\n",
       "    </tr>\n",
       "    <tr>\n",
       "      <th>4</th>\n",
       "      <td>5.0</td>\n",
       "      <td>3.6</td>\n",
       "      <td>1.4</td>\n",
       "      <td>0.2</td>\n",
       "      <td>setosa</td>\n",
       "    </tr>\n",
       "    <tr>\n",
       "      <th>...</th>\n",
       "      <td>...</td>\n",
       "      <td>...</td>\n",
       "      <td>...</td>\n",
       "      <td>...</td>\n",
       "      <td>...</td>\n",
       "    </tr>\n",
       "    <tr>\n",
       "      <th>145</th>\n",
       "      <td>6.7</td>\n",
       "      <td>3.0</td>\n",
       "      <td>5.2</td>\n",
       "      <td>2.3</td>\n",
       "      <td>virginica</td>\n",
       "    </tr>\n",
       "    <tr>\n",
       "      <th>146</th>\n",
       "      <td>6.3</td>\n",
       "      <td>2.5</td>\n",
       "      <td>5.0</td>\n",
       "      <td>1.9</td>\n",
       "      <td>virginica</td>\n",
       "    </tr>\n",
       "    <tr>\n",
       "      <th>147</th>\n",
       "      <td>6.5</td>\n",
       "      <td>3.0</td>\n",
       "      <td>5.2</td>\n",
       "      <td>2.0</td>\n",
       "      <td>virginica</td>\n",
       "    </tr>\n",
       "    <tr>\n",
       "      <th>148</th>\n",
       "      <td>6.2</td>\n",
       "      <td>3.4</td>\n",
       "      <td>5.4</td>\n",
       "      <td>2.3</td>\n",
       "      <td>virginica</td>\n",
       "    </tr>\n",
       "    <tr>\n",
       "      <th>149</th>\n",
       "      <td>5.9</td>\n",
       "      <td>3.0</td>\n",
       "      <td>5.1</td>\n",
       "      <td>1.8</td>\n",
       "      <td>virginica</td>\n",
       "    </tr>\n",
       "  </tbody>\n",
       "</table>\n",
       "<p>150 rows × 5 columns</p>\n",
       "</div>"
      ],
      "text/plain": [
       "     sepal_length  sepal_width  petal_length  petal_width    species\n",
       "0             5.1          3.5           1.4          0.2     setosa\n",
       "1             4.9          3.0           1.4          0.2     setosa\n",
       "2             4.7          3.2           1.3          0.2     setosa\n",
       "3             4.6          3.1           1.5          0.2     setosa\n",
       "4             5.0          3.6           1.4          0.2     setosa\n",
       "..            ...          ...           ...          ...        ...\n",
       "145           6.7          3.0           5.2          2.3  virginica\n",
       "146           6.3          2.5           5.0          1.9  virginica\n",
       "147           6.5          3.0           5.2          2.0  virginica\n",
       "148           6.2          3.4           5.4          2.3  virginica\n",
       "149           5.9          3.0           5.1          1.8  virginica\n",
       "\n",
       "[150 rows x 5 columns]"
      ]
     },
     "execution_count": 3,
     "metadata": {},
     "output_type": "execute_result"
    }
   ],
   "source": [
    "# Looking at the dataset.\n",
    "\n",
    "df"
   ]
  },
  {
   "cell_type": "code",
   "execution_count": 4,
   "metadata": {},
   "outputs": [
    {
     "data": {
      "text/plain": [
       "(150, 5)"
      ]
     },
     "execution_count": 4,
     "metadata": {},
     "output_type": "execute_result"
    }
   ],
   "source": [
    "df.shape"
   ]
  },
  {
   "cell_type": "markdown",
   "metadata": {},
   "source": [
    "The dataset contains 150 samples, each of these samples has had a number of measurements taken - sepal width and length, petal width and length, and species of iris. Based on Stevens (1946) categarisation of data types, these are forms of ratio (length and width measurements), and nominal (species). "
   ]
  },
  {
   "cell_type": "code",
   "execution_count": 5,
   "metadata": {},
   "outputs": [
    {
     "name": "stdout",
     "output_type": "stream",
     "text": [
      "Index(['sepal_length', 'sepal_width', 'petal_length', 'petal_width',\n",
      "       'species'],\n",
      "      dtype='object')\n"
     ]
    }
   ],
   "source": [
    "list(df.columns)\n",
    "print(df.columns)"
   ]
  },
  {
   "cell_type": "markdown",
   "metadata": {},
   "source": [
    "In order to ease analysis it may be plausible to standardise the dataset, particularly the measurements. This may aid in analysis further down the line. Could do a tukeys analysis later to see if there is significant diference in petal/sepal length and/or width, between the species depending on iris species."
   ]
  },
  {
   "cell_type": "markdown",
   "metadata": {},
   "source": [
    "The first and last 5 rows of the dataset are as follows."
   ]
  },
  {
   "cell_type": "code",
   "execution_count": 6,
   "metadata": {},
   "outputs": [
    {
     "name": "stdout",
     "output_type": "stream",
     "text": [
      "     sepal_length  sepal_width  petal_length  petal_width    species\n",
      "0             5.1          3.5           1.4          0.2     setosa\n",
      "1             4.9          3.0           1.4          0.2     setosa\n",
      "2             4.7          3.2           1.3          0.2     setosa\n",
      "3             4.6          3.1           1.5          0.2     setosa\n",
      "4             5.0          3.6           1.4          0.2     setosa\n",
      "145           6.7          3.0           5.2          2.3  virginica\n",
      "146           6.3          2.5           5.0          1.9  virginica\n",
      "147           6.5          3.0           5.2          2.0  virginica\n",
      "148           6.2          3.4           5.4          2.3  virginica\n",
      "149           5.9          3.0           5.1          1.8  virginica\n"
     ]
    }
   ],
   "source": [
    "sliced_df = pd.concat([df.head(5), df.tail(5)])\n",
    "print(sliced_df)"
   ]
  },
  {
   "cell_type": "markdown",
   "metadata": {},
   "source": []
  }
 ],
 "metadata": {
  "kernelspec": {
   "display_name": "Python 3 (ipykernel)",
   "language": "python",
   "name": "python3"
  },
  "language_info": {
   "codemirror_mode": {
    "name": "ipython",
    "version": 3
   },
   "file_extension": ".py",
   "mimetype": "text/x-python",
   "name": "python",
   "nbconvert_exporter": "python",
   "pygments_lexer": "ipython3",
   "version": "3.12.1"
  }
 },
 "nbformat": 4,
 "nbformat_minor": 2
}
